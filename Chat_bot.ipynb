{
  "cells": [
    {
      "cell_type": "code",
      "execution_count": null,
      "metadata": {},
      "outputs": [],
      "source": [
        "%pip install langchain\n",
        "%pip install \"langchain-community[pdf]\"\n",
        "%pip install faiss-cpu\n",
        "%pip install sentence-transformers\n",
        "%pip install transformers\n",
        "%pip install accelerate"
      ]
    },
    {
      "cell_type": "code",
      "execution_count": null,
      "metadata": {
        "gather": {
          "logged": 1754040770153
        }
      },
      "outputs": [],
      "source": [
        "from langchain_community.vectorstores import FAISS\n",
        "from langchain_community.embeddings import HuggingFaceEmbeddings\n",
        "from langchain.chains import RetrievalQA\n",
        "from langchain_community.llms import HuggingFacePipeline\n",
        "from transformers import AutoTokenizer, AutoModelForCausalLM, pipeline\n",
        "import torch\n",
        "import os\n",
        "\n",
        "\n",
        "print(\"Loading the saved vector index...\")\n",
        "\n",
        "# The name of the folder where you saved the index\n",
        "index_folder_name = \"my_vector_index\"\n",
        "\n",
        "# --- NEW ERROR HANDLING ---\n",
        "# Check if the index folder exists before trying to load it.\n",
        "if not os.path.exists(index_folder_name):\n",
        "    print(f\"---!!! ERROR !!!---\")\n",
        "    print(f\"The vector index folder '{index_folder_name}' was not found.\")\n",
        "    print(\"Please make sure you have successfully run the 'build_index.ipynb' notebook first.\")\n",
        "    print(\"You should see a folder named 'my_vector_index' in your file explorer on the left.\")\n",
        "    # Stop the script if the index doesn't exist.\n",
        "    raise FileNotFoundError(f\"Vector index folder not found: {index_folder_name}\")\n",
        "\n",
        "\n",
        "# The same embedding model used to create the index\n",
        "model_name = \"sentence-transformers/all-MiniLM-L6-v2\"\n",
        "model_kwargs = {'device': 'cpu'}\n",
        "embeddings = HuggingFaceEmbeddings(model_name=model_name, model_kwargs=model_kwargs)\n",
        "\n",
        "# Load the vector store from the local folder\n",
        "vector_store = FAISS.load_local(index_folder_name, embeddings, allow_dangerous_deserialization=True)\n",
        "\n",
        "print(\"Vector index loaded successfully!\")\n"
      ]
    },
    {
      "cell_type": "code",
      "execution_count": null,
      "metadata": {
        "gather": {
          "logged": 1754040829611
        }
      },
      "outputs": [],
      "source": [
        "# -----------------------------------------------------------------\n",
        "# Part 2: Connect to a Free Language Model (LLM) from Hugging Face\n",
        "# -----------------------------------------------------------------\n",
        "# This new section loads a free, open-source model that runs on your\n",
        "# compute instance, instead of using the paid Azure OpenAI service.\n",
        "\n",
        "print(\"Loading free language model from Hugging Face... (This may take a few minutes for the first run)\")\n",
        "\n",
        "# --- MOST ADVANCED MODEL ---\n",
        "# We are now using a state-of-the-art small language model for high-quality answers.\n",
        "model_id = \"microsoft/Phi-3-mini-4k-instruct\"\n",
        "\n",
        "# Load the tokenizer and model. This model requires 'trust_remote_code=True'.\n",
        "tokenizer = AutoTokenizer.from_pretrained(model_id, trust_remote_code=True)\n",
        "model = AutoModelForCausalLM.from_pretrained(\n",
        "    model_id,\n",
        "    trust_remote_code=True,\n",
        "    torch_dtype=\"auto\",\n",
        "    device_map=\"auto\" # Automatically use GPU if available\n",
        ")\n",
        "\n",
        "# Create a text-generation pipeline\n",
        "pipe = pipeline(\n",
        "    \"text-generation\",\n",
        "    model=model,\n",
        "    tokenizer=tokenizer,\n",
        "    max_new_tokens=512, # The number of tokens to generate for an answer\n",
        "    return_full_text=False # We only want the generated answer\n",
        ")\n",
        "\n",
        "# Create a LangChain wrapper for the pipeline\n",
        "llm = HuggingFacePipeline(pipeline=pipe)\n",
        "\n",
        "print(\"Successfully loaded the free Language Model.\")"
      ]
    },
    {
      "cell_type": "code",
      "execution_count": null,
      "metadata": {
        "gather": {
          "logged": 1754040817766
        }
      },
      "outputs": [],
      "source": [
        "# Part 3: Create the Question-Answering Chain\n",
        "# -----------------------------------------------------------------\n",
        "# This chain combines the vector index (for retrieving information)\n",
        "# and the LLM (for generating answers).\n",
        "qa_chain = RetrievalQA.from_chain_type(\n",
        "    llm,\n",
        "    chain_type=\"refine\", # Changed to \"refine\" for more detailed answers\n",
        "    retriever=vector_store.as_retriever(),\n",
        "    return_source_documents=True,\n",
        ")\n",
        "\n",
        "print(\"Question-Answering chain is ready.\")\n",
        "\n",
        "\n",
        "# -----------------------------------------------------------------\n",
        "# Part 4: Ask Questions!\n",
        "# -----------------------------------------------------------------\n",
        "# Now you can ask questions about your documents in a loop.\n",
        "# To exit, type 'quit' or 'exit'.\n",
        "\n",
        "print(\"\\n--- GATE DSAI Study Bot ---\")\n",
        "print(\"Enter your question. Type 'quit' to exit.\")\n",
        "\n",
        "while True:\n",
        "    query = input(\"\\nYour Question: \")\n",
        "    if query.lower() in [\"quit\", \"exit\"]:\n",
        "        print(\"Goodbye!\")\n",
        "        break\n",
        "    if query.strip() == \"\":\n",
        "        continue\n",
        "\n",
        "    try:\n",
        "        # Ask the chain a question\n",
        "        result = qa_chain.invoke({\"query\": query})\n",
        "\n",
        "        # Print the answer\n",
        "        print(\"\\nAnswer:\")\n",
        "        print(result[\"result\"])\n",
        "\n",
        "        # Print the sources it used\n",
        "        print(\"\\nSources:\")\n",
        "        for doc in result[\"source_documents\"]:\n",
        "            # We access the metadata to get the source file name\n",
        "            print(f\"- {doc.metadata.get('source', 'Unknown source')}\")\n",
        "\n",
        "    except Exception as e:\n",
        "        print(f\"An error occurred: {e}\")\n"
      ]
    }
  ],
  "metadata": {
    "kernel_info": {
      "name": "python38-azureml-pt-tf"
    },
    "kernelspec": {
      "display_name": "tensor",
      "language": "python",
      "name": "python3"
    },
    "language_info": {
      "codemirror_mode": {
        "name": "ipython",
        "version": 3
      },
      "file_extension": ".py",
      "mimetype": "text/x-python",
      "name": "python",
      "nbconvert_exporter": "python",
      "pygments_lexer": "ipython3",
      "version": "3.13.5"
    },
    "microsoft": {
      "ms_spell_check": {
        "ms_spell_check_language": "en"
      }
    },
    "nteract": {
      "version": "nteract-front-end@1.0.0"
    }
  },
  "nbformat": 4,
  "nbformat_minor": 2
}
